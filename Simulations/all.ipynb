{
  "nbformat": 4,
  "nbformat_minor": 0,
  "metadata": {
    "colab": {
      "name": "Copy of simulation.ipynb",
      "provenance": [],
      "collapsed_sections": []
    },
    "kernelspec": {
      "name": "python3",
      "display_name": "Python 3"
    },
    "language_info": {
      "name": "python"
    }
  },
  "cells": [
    {
      "cell_type": "markdown",
      "metadata": {
        "id": "_wXzauHTUAdB"
      },
      "source": [
        "Imported libraries"
      ]
    },
    {
      "cell_type": "code",
      "metadata": {
        "id": "ZNdgEg6Jx-dF"
      },
      "source": [
        "import numpy as np\n",
        "import seaborn as sns\n",
        "import numpy.random as random\n",
        "import matplotlib.pyplot as plt\n",
        "from IPython.display import HTML\n",
        "import warnings\n",
        "warnings.filterwarnings(\"ignore\")\n",
        "import matplotlib.patches as patches\n",
        "import matplotlib.path as path\n",
        "import matplotlib.animation as animation"
      ],
      "execution_count": 5,
      "outputs": []
    },
    {
      "cell_type": "markdown",
      "metadata": {
        "id": "NqJsKhxb-Gwj"
      },
      "source": [
        "Function use to create animation of convergence alongwith confidence interval values"
      ]
    },
    {
      "cell_type": "code",
      "metadata": {
        "id": "jUiLK5ji-zhY"
      },
      "source": [
        "def plot_(L,R,B,cur,rw_array1,rw_array2,rw_array3,lbound,rbound):\n",
        "  def get_value(input):\n",
        "    return L[input],B[input],R[input]\n",
        "  def animate(i): # it updates plot during animation\n",
        "      global rw_array1,rw_array2,rw_array3,cur,T\n",
        "      for j in range(cur,cur+10):\n",
        "        x,y,z = get_value(j)  \n",
        "        rw_array1.append(x)\n",
        "        rw_array2.append(y)\n",
        "        rw_array3.append(z)\n",
        "      cur+=10\n",
        "      line1.set_data(np.arange(len(rw_array1)),np.array(rw_array1))\n",
        "      line2.set_data(np.arange(len(rw_array2)),np.array(rw_array2))\n",
        "      line3.set_data(np.arange(len(rw_array3)),np.array(rw_array3))\n",
        "      return line1,line2,line3,\n",
        "\n",
        "  def init(): #initialize animation\n",
        "      line1.set_data([],[])\n",
        "      line2.set_data([],[])\n",
        "      line3.set_data([],[])\n",
        "      return line1,line2,line3,\n",
        "\n",
        "  T = len(L)\n",
        "  fig = plt.figure()\n",
        "  ax = fig.add_subplot(1,1,1)\n",
        "  plt.ylim(lbound,rbound)\n",
        "  plt.xlim(0,T)\n",
        "  plt.xlabel('N (No of samples)')\n",
        "  plt.ylabel('Estimated value')\n",
        "  plt.title('Estimated value with 90% confidence interval')\n",
        "  line1, = ax.plot([],[],lw=2)\n",
        "  line2, = ax.plot([],[],lw=2)\n",
        "  line3, = ax.plot([],[],lw=2)\n",
        "\n",
        "  anim = animation.FuncAnimation(fig, animate, init_func=init, frames=len(L)//10-1, interval=50, blit=True)\n",
        "  return anim"
      ],
      "execution_count": 6,
      "outputs": []
    },
    {
      "cell_type": "markdown",
      "metadata": {
        "id": "B9KUZ-S_-ZeA"
      },
      "source": [
        "Function to return mean and variance"
      ]
    },
    {
      "cell_type": "code",
      "metadata": {
        "id": "O57zOgtqg8Ar"
      },
      "source": [
        "def calc(vec):\n",
        "  return np.array(vec).mean(),np.array(vec).var()"
      ],
      "execution_count": 7,
      "outputs": []
    },
    {
      "cell_type": "markdown",
      "metadata": {
        "id": "FaVEfztR-Btc"
      },
      "source": [
        "# Q1"
      ]
    },
    {
      "cell_type": "markdown",
      "metadata": {
        "id": "NMQ6-RUd-geV"
      },
      "source": [
        "Function to calculate estimated value and 90% confidence interval value for PI"
      ]
    },
    {
      "cell_type": "code",
      "metadata": {
        "id": "p0gXYgCehCUY"
      },
      "source": [
        "sample=[] # it stores generated random numbers\n",
        "flag=[]  # it is true if sample falls within curve else stores false\n",
        "L=[] #stores lower confidence interval\n",
        "B=[] # estimated value\n",
        "R=[] #upper confidence interval\n",
        "random.seed=17\n",
        "cur_count=[0]*100\n",
        "for sample_size in range(3000):\n",
        "  for j in range(100): # for each sample size we repeat it 100 times to get mean and variance\n",
        "    X=random.uniform(-1,1)\n",
        "    Y=random.uniform(-1,1)\n",
        "    if j==0:\n",
        "      sample.append([X,Y])\n",
        "      if X**2+Y**2<=1: # point falls within circle\n",
        "        flag.append(True)\n",
        "      else:\n",
        "        flag.append(False)\n",
        "    if X**2+Y**2<=1:\n",
        "      cur_count[j]+=1\n",
        "  if sample_size<=0:\n",
        "    continue\n",
        "  mean,var=calc(cur_count)\n",
        "  L.append((mean-1.64*(var**0.5)/10)*4/sample_size) # It is lower confidence interval\n",
        "  B.append(mean*4/sample_size) #it is estimated value\n",
        "  R.append((mean+1.64*(var**0.5)/10)*4/sample_size) # it is lower confidence interval"
      ],
      "execution_count": 8,
      "outputs": []
    },
    {
      "cell_type": "markdown",
      "metadata": {
        "id": "b8t4BFvc-p5S"
      },
      "source": [
        "Scatter plot of Monte carlo simulation"
      ]
    },
    {
      "cell_type": "code",
      "metadata": {
        "id": "tyeLxNROiCAW"
      },
      "source": [
        "sns.scatterplot(np.array(sample)[:,0],np.array(sample)[:,1],hue=flag,)"
      ],
      "execution_count": null,
      "outputs": []
    },
    {
      "cell_type": "markdown",
      "metadata": {
        "id": "uzlCxvwG-zlj"
      },
      "source": [
        "Create animation of convergence"
      ]
    },
    {
      "cell_type": "code",
      "metadata": {
        "id": "50csE56niNRc"
      },
      "source": [
        "%%capture\n",
        "cur=0\n",
        "rw_array1=[]\n",
        "rw_array2=[]\n",
        "rw_array3=[]\n",
        "rw_array4=[]\n",
        "lbound=3\n",
        "rbound=3.3\n",
        "anim=plot_(L,B,R,cur,rw_array1,rw_array2,rw_array3,lbound,rbound)\n"
      ],
      "execution_count": 10,
      "outputs": []
    },
    {
      "cell_type": "markdown",
      "metadata": {
        "id": "YXzIsT1G-34R"
      },
      "source": [
        "Play animation (cell takes Approx ~30 sec to run)"
      ]
    },
    {
      "cell_type": "code",
      "metadata": {
        "id": "Iyora1znIbVM"
      },
      "source": [
        "HTML(anim.to_jshtml())"
      ],
      "execution_count": null,
      "outputs": []
    },
    {
      "cell_type": "markdown",
      "metadata": {
        "id": "TgDDYXk2CdI-"
      },
      "source": [
        "# Q2"
      ]
    },
    {
      "cell_type": "markdown",
      "metadata": {
        "id": "ZnbmPENNFKHd"
      },
      "source": [
        "This is given function to integrate"
      ]
    },
    {
      "cell_type": "code",
      "metadata": {
        "id": "BWA4O5T3D6lz"
      },
      "source": [
        "def f(x):\n",
        "  return (-65536*(x**8) + 262144*(x**7) - 409600*(x**6) + 311296*(x**5) - 114688*(x**4) + 16384*(x**3))/27"
      ],
      "execution_count": 12,
      "outputs": []
    },
    {
      "cell_type": "markdown",
      "metadata": {
        "id": "SAUNZlAJFM8d"
      },
      "source": [
        "First we get approximate bounds of function to get range of random numbers to be generated"
      ]
    },
    {
      "cell_type": "code",
      "metadata": {
        "id": "_-QujWtYCwGo"
      },
      "source": [
        "Y=[]\n",
        "X=np.arange(0,1,0.001)\n",
        "for x in X:\n",
        "  Y.append(f(x))\n",
        "plt.title('Approximate function')\n",
        "plt.xlabel('x')\n",
        "plt.ylabel('y(x)')\n",
        "plt.plot(X,Y)"
      ],
      "execution_count": null,
      "outputs": []
    },
    {
      "cell_type": "markdown",
      "metadata": {
        "id": "RPrrrYh6FU-V"
      },
      "source": [
        "Now we have got approximate y-bound which is [0,1], we can apply monte carlo method to get estimate of integral of f(x)"
      ]
    },
    {
      "cell_type": "code",
      "metadata": {
        "id": "7MPVaDhBDFpM"
      },
      "source": [
        "sample=[] #stores generated samples\n",
        "flag=[] #stores true if sample falls within x-axis and curve\n",
        "L=[] #lower confidence interval\n",
        "B=[] #estimated value\n",
        "R=[]# upper confidence interval\n",
        "random.seed=17\n",
        "cur_count=[0]*100\n",
        "for sample_size in range(2000):\n",
        "  for j in range(100): # for each sample size we repeat it 100 times to get mean and variance\n",
        "    X=random.uniform(0,1)\n",
        "    Y=random.uniform(0,1)\n",
        "    actual=f(X)\n",
        "    if j==0:\n",
        "      sample.append([X,Y])\n",
        "      if Y<=actual: #points falling within x-axis and curve\n",
        "        flag.append(True)\n",
        "      else:\n",
        "        flag.append(False)\n",
        "    if Y<=actual:\n",
        "      cur_count[j]+=1\n",
        "  if sample_size<=0:\n",
        "    continue\n",
        "  mean,var=calc(cur_count)\n",
        "  L.append((mean-1.64*(var**0.5)/10)/sample_size) #lower confidence interval\n",
        "  B.append(mean/sample_size) #estimated value\n",
        "  R.append((mean+1.64*(var**0.5)/10)/sample_size) # upper confidence interval"
      ],
      "execution_count": 14,
      "outputs": []
    },
    {
      "cell_type": "markdown",
      "metadata": {
        "id": "FqUbf_b7RbYK"
      },
      "source": [
        "This is a static plot of monte carlo method.<br>\n",
        "True- lies below f(x)<br>\n",
        "False- lies above f(x)"
      ]
    },
    {
      "cell_type": "code",
      "metadata": {
        "id": "0taH60ATQ8Zg"
      },
      "source": [
        "sns.scatterplot(np.array(sample)[:,0],np.array(sample)[:,1],hue=flag,)"
      ],
      "execution_count": null,
      "outputs": []
    },
    {
      "cell_type": "markdown",
      "metadata": {
        "id": "ELsTjIjTIHt6"
      },
      "source": [
        "Now we prepare simulation of whole process."
      ]
    },
    {
      "cell_type": "code",
      "metadata": {
        "id": "I-FBqbc2Xg0b"
      },
      "source": [
        "%%capture\n",
        "cur=0\n",
        "rw_array1=[]\n",
        "rw_array2=[]\n",
        "rw_array3=[]\n",
        "rw_array4=[]\n",
        "lbound=0.43\n",
        "rbound=0.53\n",
        "anim=plot_(L,B,R,cur,rw_array1,rw_array2,rw_array3,lbound,rbound)\n"
      ],
      "execution_count": 16,
      "outputs": []
    },
    {
      "cell_type": "markdown",
      "metadata": {
        "id": "ZonmHdRu_OWK"
      },
      "source": [
        "Play simulation (cell takes Approx ~20 sec to run)"
      ]
    },
    {
      "cell_type": "code",
      "metadata": {
        "id": "6Fu51eO6e7_I"
      },
      "source": [
        "HTML(anim.to_jshtml())"
      ],
      "execution_count": null,
      "outputs": []
    },
    {
      "cell_type": "markdown",
      "metadata": {
        "id": "4LCHlbsJ_Uyr"
      },
      "source": [
        "Animate one of point drop"
      ]
    },
    {
      "cell_type": "code",
      "metadata": {
        "id": "AC6CAdo0DNe3"
      },
      "source": [
        "%%capture\n",
        "def animate(i):\n",
        "    global rw_array1,rw_array2,cur,N\n",
        "    for j in range(cur,cur+10):\n",
        "      if flag[j]==True:\n",
        "        rw_array1.append(sample[j][0])\n",
        "        rw_array2.append(sample[j][1])\n",
        "      else:\n",
        "        rw_array3.append(sample[j][0])\n",
        "        rw_array4.append(sample[j][1])\n",
        "    cur+=10\n",
        "    line1.set_data(rw_array1,rw_array2)\n",
        "    line2.set_data(rw_array3,rw_array4)\n",
        "    return line1,line2,\n",
        "\n",
        "def init():\n",
        "    line1.set_data([],[])\n",
        "    line2.set_data([],[])\n",
        "    return line1,line2,\n",
        "\n",
        "N = 2000\n",
        "optimize=10\n",
        "rw_array1=[]\n",
        "rw_array2=[]\n",
        "rw_array3=[]\n",
        "rw_array4=[]\n",
        "cur=0\n",
        "fig = plt.figure()\n",
        "ax = fig.add_subplot(1,1,1)\n",
        "plt.ylim(0,1)\n",
        "plt.xlim(0,1)\n",
        "plt.xlabel('t')\n",
        "plt.title('Animation of points for n=2000')\n",
        "line1, = ax.plot([],[],'ro',)\n",
        "line2, = ax.plot([],[],'ko',)\n",
        "\n",
        "anim = animation.FuncAnimation(fig, animate, init_func=init, frames=N//optimize, interval=50, blit=True)"
      ],
      "execution_count": 18,
      "outputs": []
    },
    {
      "cell_type": "markdown",
      "metadata": {
        "id": "5coY-WedIamj"
      },
      "source": [
        "Play simulation (cell takes Approx ~20 sec to run)"
      ]
    },
    {
      "cell_type": "code",
      "metadata": {
        "id": "EHfwiZJcDbZE"
      },
      "source": [
        "HTML(anim.to_jshtml())"
      ],
      "execution_count": null,
      "outputs": []
    },
    {
      "cell_type": "markdown",
      "metadata": {
        "id": "7oFyP5OnDjmC"
      },
      "source": [
        "# Q3\n"
      ]
    },
    {
      "cell_type": "markdown",
      "metadata": {
        "id": "BsrswhUY_lM_"
      },
      "source": [
        "Target distribution and proposal distribution function"
      ]
    },
    {
      "cell_type": "code",
      "metadata": {
        "id": "2DcEq-rQkA2u"
      },
      "source": [
        "def f(x):\n",
        "  return 1/(2*np.pi)**0.5*np.exp(-x**2/2)\n",
        "def g(x):\n",
        "  return 1/(np.pi*(1+x**2))"
      ],
      "execution_count": 20,
      "outputs": []
    },
    {
      "cell_type": "markdown",
      "metadata": {
        "id": "T71hwyKz_s4t"
      },
      "source": [
        "Calculated value for M, using maximization of ratio of distribution"
      ]
    },
    {
      "cell_type": "code",
      "metadata": {
        "colab": {
          "base_uri": "https://localhost:8080/"
        },
        "id": "LxVynmE1lg8A",
        "outputId": "a911485a-efa7-44bc-b6f1-665e0179c4d6"
      },
      "source": [
        "M=(2*np.pi)**0.5*np.exp(-1/2)\n",
        "print('Calculated value of M : ',M)"
      ],
      "execution_count": 21,
      "outputs": [
        {
          "output_type": "stream",
          "text": [
            "Calculated value of M :  1.5203469010662807\n"
          ],
          "name": "stdout"
        }
      ]
    },
    {
      "cell_type": "markdown",
      "metadata": {
        "id": "-weLa2P8_96y"
      },
      "source": [
        "Now sample the distribution using rejection sampling"
      ]
    },
    {
      "cell_type": "code",
      "metadata": {
        "id": "Encm2lW2kEB_"
      },
      "source": [
        "X=random.standard_cauchy(10000)\n",
        "accept=[]\n",
        "reject=[]\n",
        "for x in X:\n",
        "  u=random.uniform(0,1)\n",
        "  if u<=f(x)/(M*g(x)): # aceptence condition\n",
        "    accept.append(x)\n",
        "  else:\n",
        "    reject.append(x)"
      ],
      "execution_count": 22,
      "outputs": []
    },
    {
      "cell_type": "markdown",
      "metadata": {
        "id": "rjqsaiAkAJRU"
      },
      "source": [
        "get densities to plot"
      ]
    },
    {
      "cell_type": "code",
      "metadata": {
        "id": "2PY3pzHQpAGU"
      },
      "source": [
        "idx=np.array(X)\n",
        "idx=idx[(idx<10) & (idx>-10)]\n",
        "scaled_proposal=[]\n",
        "proposal=[]\n",
        "for i in sorted(idx):\n",
        "  scaled_proposal.append(M*g(i))\n",
        "  proposal.append(g(i))"
      ],
      "execution_count": 23,
      "outputs": []
    },
    {
      "cell_type": "markdown",
      "metadata": {
        "id": "ZZOWV6iQANZW"
      },
      "source": [
        "Plot of proposal, scaled proposal, target distribution"
      ]
    },
    {
      "cell_type": "code",
      "metadata": {
        "id": "b13rIZ4HqTaQ"
      },
      "source": [
        "plt.plot(sorted(idx),scaled_proposal)\n",
        "plt.plot(sorted(idx),proposal)\n",
        "sns.kdeplot(accept)\n",
        "plt.legend(['Scaled proposal','proposal','Target'])"
      ],
      "execution_count": null,
      "outputs": []
    },
    {
      "cell_type": "markdown",
      "metadata": {
        "id": "uWRNM28zAXuX"
      },
      "source": [
        "Fucntion to create animated histogram"
      ]
    },
    {
      "cell_type": "code",
      "metadata": {
        "id": "BboEfPdRkIDh"
      },
      "source": [
        "%%capture\n",
        "data     = 0\n",
        "n_bins   = 50\n",
        "n, bins  = np.histogram(data, n_bins)\n",
        "meanList = []\n",
        "x_min    = -2.5\n",
        "x_max    =  2.5\n",
        "left   = np.array(bins[:-1])\n",
        "right  = np.array(bins[1:])\n",
        "bottom = np.zeros(len(left))\n",
        "top    = bottom + n\n",
        "nrects = len(left)\n",
        "nverts = nrects * (1 + 3 + 1)\n",
        "verts  = np.zeros((nverts, 2))\n",
        "codes  = np.ones(nverts, int) * path.Path.LINETO\n",
        "codes[0::5] = path.Path.MOVETO\n",
        "codes[4::5] = path.Path.CLOSEPOLY\n",
        "verts[0::5, 0] = left\n",
        "verts[0::5, 1] = bottom\n",
        "verts[1::5, 0] = left\n",
        "verts[1::5, 1] = top\n",
        "verts[2::5, 0] = right\n",
        "verts[2::5, 1] = top\n",
        "verts[3::5, 0] = right\n",
        "verts[3::5, 1] = bottom\n",
        "patch = None\n",
        "j=0\n",
        "def animate(i):\n",
        "    global meanList,j\n",
        "    for i in range(j,25+j):\n",
        "        meanList.append(accept[i])\n",
        "    j+=25\n",
        "    n, bins = np.histogram(meanList, 50,range=(x_min,x_max),density=False)\n",
        "    top = bottom + n\n",
        "    verts[1::5, 1] = top\n",
        "    verts[2::5, 1] = top\n",
        "    return [patch, ]\n",
        "fig, ax = plt.subplots(figsize=(10, 5))\n",
        "barpath = path.Path(verts, codes)\n",
        "patch = patches.PathPatch(\n",
        "    barpath, facecolor='darkmagenta', edgecolor='crimson', alpha=0.5)\n",
        "ax.add_patch(patch)\n",
        "ax.set_xlim(-1,1)\n",
        "ax.set_ylim(0,330)\n",
        "plt.xlabel('x')\n",
        "plt.ylabel('f(x)')\n",
        "n_frames = len(accept)//25-2\n",
        "anim = animation.FuncAnimation(fig, animate, n_frames,interval=50, repeat=True, blit=False)"
      ],
      "execution_count": 47,
      "outputs": []
    },
    {
      "cell_type": "markdown",
      "metadata": {
        "id": "pg8vTZ-rAiBq"
      },
      "source": [
        "Play animation (approx ~25 sec to run)"
      ]
    },
    {
      "cell_type": "code",
      "metadata": {
        "id": "zYTyP4cImLiM"
      },
      "source": [
        "HTML(anim.to_jshtml())"
      ],
      "execution_count": null,
      "outputs": []
    },
    {
      "cell_type": "markdown",
      "metadata": {
        "id": "wmdajxEVkpoX"
      },
      "source": [
        "# Q4"
      ]
    },
    {
      "cell_type": "markdown",
      "metadata": {
        "id": "GIPdoeDVApYy"
      },
      "source": [
        "given proposal and target distributions"
      ]
    },
    {
      "cell_type": "code",
      "metadata": {
        "id": "uE-I8Q5FlV_X"
      },
      "source": [
        "def p(x):\n",
        "  return 1/2*np.exp(-abs(x))\n",
        "def f(x,pow):\n",
        "  return x**pow\n",
        "def g(x):\n",
        "  return (1/(2*np.pi)**0.5)*1/2*np.exp(-1/2*(x**2)/4)"
      ],
      "execution_count": 27,
      "outputs": []
    },
    {
      "cell_type": "markdown",
      "metadata": {
        "id": "Zh07LriYAv5q"
      },
      "source": [
        "Estimating moments using Importance sampling<br>\n",
        "For calculating error-<br>\n",
        "-> while calculating 1 th and 5th moment, moment calculating function becomes odd, so actual mean is zero<br>\n",
        "->for 2nd moment and function becomes even, then using integral transformation for even function, function simply becomes 2nd moment of exponential function with parameter 1, and hence actual value is 2"
      ]
    },
    {
      "cell_type": "code",
      "metadata": {
        "id": "jznhXR4quGQf"
      },
      "source": [
        "for N in [100,500,1000]:\n",
        "  X=random.normal(0,2,N)\n",
        "  print('\\n\\nNo of samples : ',N)\n",
        "  plt.show()\n",
        "  for pow in [1,2,5]:\n",
        "    mean=0\n",
        "    for x in X:\n",
        "      mean+=f(x,pow)*p(x)/g(x)\n",
        "    error=abs(mean/N)\n",
        "    if pow==2:\n",
        "      error=abs(2-mean/N)\n",
        "    print('  ->',pow,'th Moment : ',mean/N)\n",
        "    print('     absolute error : ',error)"
      ],
      "execution_count": null,
      "outputs": []
    },
    {
      "cell_type": "markdown",
      "metadata": {
        "id": "bOE2uKMouTO8"
      },
      "source": [
        "# Q5"
      ]
    },
    {
      "cell_type": "markdown",
      "metadata": {
        "id": "c4UHSHUrRl7-"
      },
      "source": [
        "Using inverse transform we calculate inverse function and it comes out to be y=(40*x+9/4)**0.5-3/2<br>\n",
        "Now we will be sample from this function."
      ]
    },
    {
      "cell_type": "code",
      "metadata": {
        "id": "4wIoC3FNuomL"
      },
      "source": [
        "sampled=[]\n",
        "for i in range(10000):\n",
        "  x=random.uniform(0,1)\n",
        "  sampled.append((40*x+9/4)**0.5-3/2)"
      ],
      "execution_count": 29,
      "outputs": []
    },
    {
      "cell_type": "markdown",
      "metadata": {
        "id": "KpHXZNAwSB5D"
      },
      "source": [
        "This is expected distribution"
      ]
    },
    {
      "cell_type": "code",
      "metadata": {
        "id": "aGfKV5PJupf5"
      },
      "source": [
        "expected=[1/40*(2*x+3) for x in np.arange(0,5,0.01)]"
      ],
      "execution_count": 30,
      "outputs": []
    },
    {
      "cell_type": "code",
      "metadata": {
        "id": "trx34Bgbuwx-"
      },
      "source": [
        "plt.plot(np.arange(0,5,0.01),expected)\n",
        "plt.hist(sampled,bins=50,density=True)\n",
        "plt.legend(['Expected distribution','Sampled distribution'])\n",
        "plt.show()"
      ],
      "execution_count": null,
      "outputs": []
    },
    {
      "cell_type": "markdown",
      "metadata": {
        "id": "oE0w4Viuu64s"
      },
      "source": [
        "# Q6"
      ]
    },
    {
      "cell_type": "markdown",
      "metadata": {
        "id": "pYONX00ASaWa"
      },
      "source": [
        "We start from origin and move around randomly in 2d plane with x and y coordinate changing by Unif(-1,1)"
      ]
    },
    {
      "cell_type": "code",
      "metadata": {
        "id": "4Kl2PDLHVelc"
      },
      "source": [
        "%%capture\n",
        "N=1000\n",
        "lbound=50\n",
        "ubound=50\n",
        "random.seed=42\n",
        "def random_walk(input1,input2):\n",
        "    return input1+random.uniform(-1,1),input2+random.uniform(-1,1)\n",
        "\n",
        "def animate(i):\n",
        "    global rw_array1,rw_array2,lim,T,x,y\n",
        "    x,y = random_walk(x,y)\n",
        "    x=x%(2*lbound)\n",
        "    y=y%(2*ubound)\n",
        "    rw_array1.append(x-lbound)\n",
        "    rw_array2.append(y-ubound)\n",
        "    x,y = random_walk(x,y)\n",
        "    x=x%(2*lbound)\n",
        "    y=y%(2*ubound)\n",
        "    rw_array1.append(x-lbound)\n",
        "    rw_array2.append(y-ubound)\n",
        "    x,y = random_walk(x,y)\n",
        "    x=x%(2*lbound)\n",
        "    y=y%(2*ubound)\n",
        "    rw_array1.append(x-lbound)\n",
        "    rw_array2.append(y-ubound)\n",
        "    line.set_data(np.array(rw_array1),np.array(rw_array2))\n",
        "    return line,\n",
        "\n",
        "def init():\n",
        "    line.set_data([],[])\n",
        "    return line,\n",
        "\n",
        "T = 1000\n",
        "optimize=3\n",
        "rw_array1=[]\n",
        "rw_array2=[]\n",
        "lim = 0\n",
        "x=lbound\n",
        "y=ubound\n",
        "fig = plt.figure()\n",
        "ax = fig.add_subplot(1,1,1)\n",
        "plt.ylim(-ubound,ubound)\n",
        "plt.xlim(-lbound,lbound)\n",
        "plt.xlabel('t')\n",
        "plt.title('2D Random Walk')\n",
        "line, = ax.plot([],[],lw=1,ls='-',marker='.',markersize=0.1,)\n",
        "\n",
        "anim = animation.FuncAnimation(fig, animate, init_func=init, frames=T//optimize, interval=100, blit=True)"
      ],
      "execution_count": 32,
      "outputs": []
    },
    {
      "cell_type": "markdown",
      "metadata": {
        "id": "yOP_--X_Szbf"
      },
      "source": [
        "Play animation (approx ~20 secs to run cell)"
      ]
    },
    {
      "cell_type": "code",
      "metadata": {
        "id": "PlT47uRJVtpx"
      },
      "source": [
        "HTML(anim.to_jshtml())"
      ],
      "execution_count": null,
      "outputs": []
    },
    {
      "cell_type": "markdown",
      "metadata": {
        "id": "k3j85HL0zzFh"
      },
      "source": [
        "# Q7"
      ]
    },
    {
      "cell_type": "markdown",
      "metadata": {
        "id": "DJXRbVjZS7sw"
      },
      "source": [
        "We generate bivariate distribution with cov(X,Y)=cov(Y,X)=0 and some positive cov(X)=cov(Y)"
      ]
    },
    {
      "cell_type": "code",
      "metadata": {
        "id": "dBRCHkAO9PAy"
      },
      "source": [
        "c=2\n",
        "cov=[[c,0],[0,c]]\n",
        "fig = plt.figure()\n",
        "ax = fig.add_subplot(111)\n",
        "ax.set_aspect('equal', adjustable='box')\n",
        "X=random.multivariate_normal([0,0],cov,100000)\n",
        "plt.scatter(X[:,0],X[:,1],marker=\"x\",s=10)"
      ],
      "execution_count": null,
      "outputs": []
    },
    {
      "cell_type": "markdown",
      "metadata": {
        "id": "y6ZH6XYYDZVJ"
      },
      "source": [
        "\n",
        "From above plot we can see that the plot is symmetric and has equal spread along both directions.\n",
        "\n"
      ]
    },
    {
      "cell_type": "markdown",
      "metadata": {
        "id": "auqsMXBvTTxl"
      },
      "source": [
        "We generate bivariate distribution with cov(X,Y)=cov(Y,X)=0 and some positive cov(X) not equals cov(Y)"
      ]
    },
    {
      "cell_type": "code",
      "metadata": {
        "id": "KIkRcLOU-kUD"
      },
      "source": [
        "c1=20\n",
        "c2=10\n",
        "cov=[[c1,0],[0,c2]]\n",
        "fig = plt.figure()\n",
        "ax = fig.add_subplot(111)\n",
        "ax.set_aspect('equal', adjustable='box')\n",
        "X=random.multivariate_normal([0,0],cov,100000)\n",
        "plt.scatter(X[:,0],X[:,1],marker=\"x\",s=10)"
      ],
      "execution_count": null,
      "outputs": []
    },
    {
      "cell_type": "markdown",
      "metadata": {
        "id": "nu4bmu-PDr8R"
      },
      "source": [
        ""
      ]
    },
    {
      "cell_type": "markdown",
      "metadata": {
        "id": "E4Ax8a--EfHN"
      },
      "source": [
        "From above plot we can see that the plots are symmetric about particular axes but spread is more along the x-axis."
      ]
    },
    {
      "cell_type": "markdown",
      "metadata": {
        "id": "nbXAcItxTaZr"
      },
      "source": [
        "We generate bivariate distribution with cov(X,Y)=-cov(Y,X) not equals zero and some positive random values for  cov(X),ov(Y)"
      ]
    },
    {
      "cell_type": "code",
      "metadata": {
        "id": "-9q7GLy_5msH"
      },
      "source": [
        "on=[[2,2],[3,3],[10,10],[20,20]] # this is used to iterate over on diagonal values\n",
        "off=[0.2,0.5,0.8,1,2,3,5,10,-0.2,-0.5,-0.8,-1,-2,-3,-5,-10] # this is used to iterate over off diagonal values\n",
        "for i in range(len(on)):\n",
        "  print(\"on diagonal entries-\",on[i][0],on[i][1])\n",
        "  \n",
        "  plt.rcParams[\"figure.figsize\"] = (6,8)\n",
        "  fig = plt.figure()\n",
        "  for j in range(len(off)):\n",
        "    cov=[[on[i][0],off[j]],[off[j],on[i][1]]]\n",
        "    if(cov[0][0]*cov[1][1]-cov[0][1]*cov[1][0]<0): #check for postive semii definite\n",
        "      continue\n",
        "    num=2\n",
        "    if i==0:\n",
        "      num=1\n",
        "    ax = fig.add_subplot(4,4,j+1)\n",
        "    ax.set_aspect('equal', adjustable='box')\n",
        "    X=random.multivariate_normal([0,0],cov,100000)\n",
        "    title=\"[\"+str(cov[0][0])+\",\"+str(cov[0][1])+\"]\\n\"+\"[\"+str(cov[1][0])+\",\"+str(cov[1][1])+\"]\"\n",
        "    plt.title(title)\n",
        "    plt.scatter(X[:,0],X[:,1],marker=\"x\",s=10)\n",
        "  plt.tight_layout()\n",
        "  plt.show()"
      ],
      "execution_count": null,
      "outputs": []
    },
    {
      "cell_type": "markdown",
      "metadata": {
        "id": "gapZe3qmTb0M"
      },
      "source": [
        "If we observe the plots, for a fixed value of principal diagonal values, on increasing magnitude of off-diagonal values the linearity in plot is increased. If we increase in positive direction then linearity is introduced in such a manner that slope becomes positive, while in other case slope becomes more and more negative.<br>\n",
        "Yes, it is true for other kinds of distribution, because covariance introduces linearity in data."
      ]
    }
  ]
}